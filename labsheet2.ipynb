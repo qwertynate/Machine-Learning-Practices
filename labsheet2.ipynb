{
 "cells": [
  {
   "cell_type": "markdown",
   "id": "9734918f-b25c-4c8f-ac2b-a3314094c222",
   "metadata": {},
   "source": [
    "## <center>CITS5508 Lab sheet 2: Implementing a simple classification task</center>\n",
    "\n",
    "This is an example notebook to help you implement the tasks required for this lab sheet. \n",
    "\n",
    "We have provided some ideas to help you. Use the unit content and your thinking to create the several necessary steps. \n",
    "\n",
    "You will develop Python code for a simple classification task in this lab sheet. Certify that the presentation of your Python notebook is good and that you used the Markdown cells well. Make sure you properly format your plots and results. For instance, all your diagrams/plots should have proper axis labels and titles to help the reader understand what you are plotting. Another example is the confusion matrix; not showing the class names makes the confusion matrix completely useless. Use the lab sheets to learn how to improve the presentation of your notebook, as you will need this in the assessments. "
   ]
  },
  {
   "cell_type": "markdown",
   "id": "f42f526a-17ad-4dc2-b81a-089ba8af22be",
   "metadata": {},
   "source": [
    "### Importing the libraries"
   ]
  },
  {
   "cell_type": "code",
   "execution_count": 17,
   "id": "090ca8e2-3b2e-4839-a0dd-e44a1c364697",
   "metadata": {},
   "outputs": [],
   "source": [
    "#You may need to add other libraries here depending on your code\n",
    "\n",
    "import pandas as pd\n",
    "import numpy as np\n",
    "import matplotlib.pyplot as plt\n",
    "\n",
    "# to display plots in Jupyter notebook\n",
    "%matplotlib inline\n",
    "\n",
    "plt.rcParams['font.size'] = '12'"
   ]
  },
  {
   "cell_type": "markdown",
   "id": "36505060-2b84-455e-97ad-6125abb8f9a5",
   "metadata": {},
   "source": [
    "### 1. Loading the data\n",
    "\n",
    "Load the data and create your training and test datasets."
   ]
  },
  {
   "cell_type": "code",
   "execution_count": 18,
   "id": "b674fa56-5019-4200-8225-3c20f0840004",
   "metadata": {},
   "outputs": [],
   "source": [
    "#Hint: Look at the function pd.read_csv()\n",
    "\n",
    "#df_train = ...\n",
    "#df_test = ...\n",
    "\n",
    "training = pd.read_csv(\"training.csv\")\n",
    "testing = pd.read_csv(\"testing.csv\")"
   ]
  },
  {
   "cell_type": "markdown",
   "id": "497b76af-6f2f-4caf-af05-06b9f241efef",
   "metadata": {},
   "source": [
    "### 2. Quick inspecting the data\n",
    "\n",
    "Inspect what the columns are. Try the different options as discussed in lectures (e.g. head() and info() functions). Don't forget to use appropriate formatting in your output answers. What can you observe? Are there any issues with the data?"
   ]
  },
  {
   "cell_type": "code",
   "execution_count": 19,
   "id": "1fcc423d-9010-4af4-af08-90b1e75f6ccc",
   "metadata": {},
   "outputs": [
    {
     "name": "stdout",
     "output_type": "stream",
     "text": [
      "Index(['class', 'b1', 'b2', 'b3', 'b4', 'b5', 'b6', 'b7', 'b8', 'b9',\n",
      "       'pred_minus_obs_H_b1', 'pred_minus_obs_H_b2', 'pred_minus_obs_H_b3',\n",
      "       'pred_minus_obs_H_b4', 'pred_minus_obs_H_b5', 'pred_minus_obs_H_b6',\n",
      "       'pred_minus_obs_H_b7', 'pred_minus_obs_H_b8', 'pred_minus_obs_H_b9',\n",
      "       'pred_minus_obs_S_b1', 'pred_minus_obs_S_b2', 'pred_minus_obs_S_b3',\n",
      "       'pred_minus_obs_S_b4', 'pred_minus_obs_S_b5', 'pred_minus_obs_S_b6',\n",
      "       'pred_minus_obs_S_b7', 'pred_minus_obs_S_b8', 'pred_minus_obs_S_b9'],\n",
      "      dtype='object')\n",
      "Index(['class', 'b1', 'b2', 'b3', 'b4', 'b5', 'b6', 'b7', 'b8', 'b9',\n",
      "       'pred_minus_obs_H_b1', 'pred_minus_obs_H_b2', 'pred_minus_obs_H_b3',\n",
      "       'pred_minus_obs_H_b4', 'pred_minus_obs_H_b5', 'pred_minus_obs_H_b6',\n",
      "       'pred_minus_obs_H_b7', 'pred_minus_obs_H_b8', 'pred_minus_obs_H_b9',\n",
      "       'pred_minus_obs_S_b1', 'pred_minus_obs_S_b2', 'pred_minus_obs_S_b3',\n",
      "       'pred_minus_obs_S_b4', 'pred_minus_obs_S_b5', 'pred_minus_obs_S_b6',\n",
      "       'pred_minus_obs_S_b7', 'pred_minus_obs_S_b8', 'pred_minus_obs_S_b9'],\n",
      "      dtype='object')\n"
     ]
    }
   ],
   "source": [
    "column_headings_training = training.columns\n",
    "column_headings_testing = testing.columns\n",
    "\n",
    "#format your print, e.g.\n",
    "#print('Column headings are: ',column_headings)\n",
    "\n",
    "print(column_headings_training)\n",
    "print(column_headings_testing)"
   ]
  },
  {
   "cell_type": "code",
   "execution_count": 41,
   "id": "c9c635a5-bb82-4792-9de4-203b1ac773e0",
   "metadata": {},
   "outputs": [
    {
     "name": "stdout",
     "output_type": "stream",
     "text": [
      "<class 'pandas.core.frame.DataFrame'>\n",
      "RangeIndex: 325 entries, 0 to 324\n",
      "Data columns (total 28 columns):\n",
      " #   Column               Non-Null Count  Dtype  \n",
      "---  ------               --------------  -----  \n",
      " 0   class                325 non-null    object \n",
      " 1   b1                   325 non-null    int64  \n",
      " 2   b2                   325 non-null    int64  \n",
      " 3   b3                   325 non-null    int64  \n",
      " 4   b4                   325 non-null    int64  \n",
      " 5   b5                   325 non-null    int64  \n",
      " 6   b6                   325 non-null    int64  \n",
      " 7   b7                   325 non-null    int64  \n",
      " 8   b8                   325 non-null    int64  \n",
      " 9   b9                   325 non-null    int64  \n",
      " 10  pred_minus_obs_H_b1  325 non-null    float64\n",
      " 11  pred_minus_obs_H_b2  325 non-null    float64\n",
      " 12  pred_minus_obs_H_b3  325 non-null    float64\n",
      " 13  pred_minus_obs_H_b4  325 non-null    float64\n",
      " 14  pred_minus_obs_H_b5  325 non-null    float64\n",
      " 15  pred_minus_obs_H_b6  325 non-null    float64\n",
      " 16  pred_minus_obs_H_b7  325 non-null    float64\n",
      " 17  pred_minus_obs_H_b8  325 non-null    float64\n",
      " 18  pred_minus_obs_H_b9  325 non-null    float64\n",
      " 19  pred_minus_obs_S_b1  325 non-null    float64\n",
      " 20  pred_minus_obs_S_b2  325 non-null    float64\n",
      " 21  pred_minus_obs_S_b3  325 non-null    float64\n",
      " 22  pred_minus_obs_S_b4  325 non-null    float64\n",
      " 23  pred_minus_obs_S_b5  325 non-null    float64\n",
      " 24  pred_minus_obs_S_b6  325 non-null    float64\n",
      " 25  pred_minus_obs_S_b7  325 non-null    float64\n",
      " 26  pred_minus_obs_S_b8  325 non-null    float64\n",
      " 27  pred_minus_obs_S_b9  325 non-null    float64\n",
      "dtypes: float64(18), int64(9), object(1)\n",
      "memory usage: 71.2+ KB\n",
      "(325, 28)\n"
     ]
    }
   ],
   "source": [
    "training.info()\n",
    "print(training.shape)"
   ]
  },
  {
   "cell_type": "markdown",
   "id": "da010877-d268-4a66-966a-b9fe4eddb0a4",
   "metadata": {},
   "source": [
    "### 3. Removing some columns from the dataset\n",
    "\n",
    "We are going to drop all the columns *pred_minus_obs...*, i.e., we keep only the first 10 columns: the *class* column and the columns b1, b2, ..., b9. Don't forget to apply these changes to the training and test sets. "
   ]
  },
  {
   "cell_type": "code",
   "execution_count": 21,
   "id": "ccc8c0f4-df48-48af-a1b1-3fe2ca2e63cf",
   "metadata": {},
   "outputs": [
    {
     "name": "stdout",
     "output_type": "stream",
     "text": [
      "    class  b1  b2  b3   b4  b5   b6   b7  b8  b9\n",
      "0       d  67  51  68  115  69  111  136  31  67\n",
      "1       s  67  28  51   99  50   97   82  26  59\n",
      "2       s  63  26  50   95  49   91   81  26  57\n",
      "3       d  63  42  63   97  66  108  111  28  59\n",
      "4       s  46  27  50   83  51   90   76  26  56\n",
      "..    ...  ..  ..  ..  ...  ..  ...  ...  ..  ..\n",
      "320     o  55  56  72   91  79  113   86  35  68\n",
      "321     d  69  49  76   91  52   91   92  25  57\n",
      "322     s  49  26  48  107  59  104   62  22  53\n",
      "323     s  55  26  52   92  55   98   65  23  56\n",
      "324     h  71  28  51   96  46   88   92  25  58\n",
      "\n",
      "[325 rows x 10 columns]\n",
      "    class  b1  b2  b3   b4  b5   b6   b7  b8  b9\n",
      "0       d  39  36  57   91  59  101   93  27  60\n",
      "1       h  84  30  57  112  51   98   92  26  62\n",
      "2       s  53  25  49   99  51   93   84  26  58\n",
      "3       s  59  26  49  103  47   92   82  25  56\n",
      "4       d  57  49  66  103  64  106  114  28  59\n",
      "..    ...  ..  ..  ..  ...  ..  ...  ...  ..  ..\n",
      "193     d  55  61  90   75  55   91   84  24  54\n",
      "194     d  66  69  93   90  63  100   99  25  57\n",
      "195     h  79  30  55  115  51   96  109  25  59\n",
      "196     h  69  27  53  106  47   90   87  24  55\n",
      "197     h  80  29  55  116  50   95  102  25  59\n",
      "\n",
      "[198 rows x 10 columns]\n"
     ]
    }
   ],
   "source": [
    "#You need to create a code to remove the undesired columns from the training and testing sets. After that,\n",
    "#inspect what your datasets look like. Do you have the correct data matrix structure (that is, rows represent the examples \n",
    "#and columns represent the attributes?\n",
    "\n",
    "new_training = training[[\"class\", \"b1\", \"b2\",\"b3\",\"b4\",\"b5\",\"b6\",\"b7\",\"b8\",\"b9\"]]\n",
    "print(new_training)\n",
    "new_testing = testing[[\"class\",\"b1\", \"b2\",\"b3\",\"b4\",\"b5\",\"b6\",\"b7\",\"b8\",\"b9\"]]\n",
    "print(new_testing)"
   ]
  },
  {
   "cell_type": "markdown",
   "id": "68755bb7-5140-47f9-bcf7-400370753153",
   "metadata": {},
   "source": [
    "### 4. Counting the number of instances in each class\n",
    "\n",
    "According to the UCI Machine Learning website, this dataset has 4 class labels given in the first column of the csv file: Class: *s* ('Sugi' forest), *h* ('Hinoki' forest), *d* ('Mixed deciduous' forest), *o* ('Other' non-forest land). Write Python code to count instances/examples for each class label in your datasets. Are they imbalanced? "
   ]
  },
  {
   "cell_type": "code",
   "execution_count": 22,
   "id": "faa39e9e-c15a-40dd-9665-ba5fe8cab17a",
   "metadata": {},
   "outputs": [],
   "source": [
    "species_training = pd.DataFrame(training[\"class\"].value_counts())\n",
    "class_labels_species_training = species_training.index.to_list()\n",
    "count_labels_species_training = species_training[\"count\"].to_list()\n",
    "# print(\"species_training\", \"\\n\", species_training,\"\\n\")\n",
    "\n",
    "species_testing = pd.DataFrame(testing[\"class\"].value_counts())\n",
    "class_labels_species_testing = species_testing.index.to_list()\n",
    "count_labels_species_testing = species_testing[\"count\"].to_list()\n",
    "\n",
    "# species_testing_count = species_testing[\"count\"]\n",
    "# print(\"species_testing\", \"\\n\",species_testing, \"\\n\")"
   ]
  },
  {
   "cell_type": "markdown",
   "id": "40c37035-e85e-4402-8a6c-6d6707f24202",
   "metadata": {},
   "source": [
    "### 5. Doing some data visualisation \n",
    "\n",
    "Use appropriate functions to display (visualise) the different features (attributes/columns). You can also incorporate class information. Do you observe any aspect of the data that should be addressed?"
   ]
  },
  {
   "cell_type": "code",
   "execution_count": 23,
   "id": "e9019ae6-87b1-4f42-a0fd-164214833f60",
   "metadata": {},
   "outputs": [
    {
     "data": {
      "image/png": "[encoded data removed]",
      "text/plain": [
       "<Figure size 640x480 with 1 Axes>"
      ]
     },
     "metadata": {},
     "output_type": "display_data"
    }
   ],
   "source": [
    "# Tip: explore different options, like histograms, scatter plots, etc.\n",
    "\n",
    "# The number of labels in training data\n",
    "plt.bar(class_labels_species_training, count_labels_species_training)\n",
    "plt.title(\"The number of labels in training data\")\n",
    "plt.show()"
   ]
  },
  {
   "cell_type": "code",
   "execution_count": 24,
   "id": "fd96cbd8-c36f-4c37-aede-94a25f639866",
   "metadata": {},
   "outputs": [
    {
     "data": {
      "image/png": "[encoded data removed]",
      "text/plain": [
       "<Figure size 640x480 with 1 Axes>"
      ]
     },
     "metadata": {},
     "output_type": "display_data"
    }
   ],
   "source": [
    "# The number of lables in the testing data\n",
    "plt.bar(class_labels_species_testing, count_labels_species_testing)\n",
    "plt.show()"
   ]
  },
  {
   "cell_type": "code",
   "execution_count": null,
   "id": "9692ffec-7143-46f2-8536-75b0890d6189",
   "metadata": {},
   "outputs": [],
   "source": []
  },
  {
   "cell_type": "markdown",
   "id": "db12d7f0-a4ed-4154-b9a2-e0bccfafa2d5",
   "metadata": {},
   "source": [
    "### 6. Preparing the data for a binary classification\n",
    "\n",
    "We will do a multiclass classification on this dataset later. For now, we will start with a binary classification. Update your training and testing sets to contain only examples from two classes: \"s\" (\"Sugi\" forest) and  \"d\" (\"Mixed deciduous\" forest)."
   ]
  },
  {
   "cell_type": "code",
   "execution_count": 44,
   "id": "213c32af-44a2-4edf-9616-a176efa27ba4",
   "metadata": {},
   "outputs": [
    {
     "name": "stdout",
     "output_type": "stream",
     "text": [
      "0      d\n",
      "1      s\n",
      "2      s\n",
      "3      d\n",
      "4      s\n",
      "      ..\n",
      "316    s\n",
      "318    s\n",
      "321    d\n",
      "322    s\n",
      "323    s\n",
      "Name: class, Length: 241, dtype: object\n",
      "(241,)\n",
      "     b1  b2  b3   b4  b5   b6   b7  b8  b9\n",
      "0    67  51  68  115  69  111  136  31  67\n",
      "1    67  28  51   99  50   97   82  26  59\n",
      "2    63  26  50   95  49   91   81  26  57\n",
      "3    63  42  63   97  66  108  111  28  59\n",
      "4    46  27  50   83  51   90   76  26  56\n",
      "..   ..  ..  ..  ...  ..  ...  ...  ..  ..\n",
      "316  59  32  56   90  50   90   85  25  56\n",
      "318  49  25  50   92  54  100   60  23  52\n",
      "321  69  49  76   91  52   91   92  25  57\n",
      "322  49  26  48  107  59  104   62  22  53\n",
      "323  55  26  52   92  55   98   65  23  56\n",
      "\n",
      "[241 rows x 9 columns]\n",
      "(241, 9)\n"
     ]
    }
   ],
   "source": [
    "# The code below is the dataset with s, d and class\n",
    "\n",
    "filter_label = new_training[training['class'].isin(['s','d'])][\"class\"]\n",
    "print(filter_label)\n",
    "print(filter_label.shape)\n",
    "# print(binary_train.shape)\n",
    "\n",
    "# -------------------------\n",
    "\n",
    "binary_train = new_training[training['class'].isin(['s','d'])]\n",
    "binary_train = binary_train[[\"b1\", \"b2\",\"b3\",\"b4\",\"b5\",\"b6\",\"b7\",\"b8\",\"b9\"]]\n",
    "binary_test = new_testing[testing['class'].isin(['s','d'])]\n",
    "print(binary_train)\n",
    "print(binary_train.shape)\n",
    "\n"
   ]
  },
  {
   "cell_type": "markdown",
   "id": "6f8456f0-c660-4309-b82b-75062e054a80",
   "metadata": {},
   "source": [
    "### 7. Using the Logistic Regression\n",
    "\n",
    "Use the **Logistic Regression Classifier** implemented in **sklearn.linear\\_model** class to perform a binary classification on the updated datasets. Try also to implement your version of the Logistic Regression (do you arrive at similar results as the package?). Implementing your version is the best way to learn. "
   ]
  },
  {
   "cell_type": "code",
   "execution_count": null,
   "id": "428431ba-2ed2-45ad-b465-3b0b17786af2",
   "metadata": {},
   "outputs": [
    {
     "name": "stdout",
     "output_type": "stream",
     "text": [
      "(241, 9)\n",
      "(241,)\n"
     ]
    },
    {
     "name": "stderr",
     "output_type": "stream",
     "text": [
      "/opt/anaconda3/lib/python3.12/site-packages/sklearn/linear_model/_logistic.py:469: ConvergenceWarning: lbfgs failed to converge (status=1):\n",
      "STOP: TOTAL NO. of ITERATIONS REACHED LIMIT.\n",
      "\n",
      "Increase the number of iterations (max_iter) or scale the data as shown in:\n",
      "    https://scikit-learn.org/stable/modules/preprocessing.html\n",
      "Please also refer to the documentation for alternative solver options:\n",
      "    https://scikit-learn.org/stable/modules/linear_model.html#logistic-regression\n",
      "  n_iter_i = _check_optimize_result(\n"
     ]
    }
   ],
   "source": [
    "from sklearn.linear_model import LogisticRegression\n",
    "from sklearn.model_selection import train_test_split\n",
    "\n",
    "X = binary_train.values\n",
    "y  = filter_label.values\n",
    "X_train, X_test, y_train, y_test = train_test_split(X, y, test_size=0.2, random_state=42, stratify=y)\n",
    "log_reg = LogisticRegression(random_state=42)\n",
    "log_reg.fit(X_train, y_train)"
   ]
  },
  {
   "cell_type": "code",
   "execution_count": null,
   "id": "108866c1",
   "metadata": {},
   "outputs": [
    {
     "name": "stdout",
     "output_type": "stream",
     "text": [
      "Train Accuracy 0.9583333333333334\n",
      "Test Accuracy 0.9795918367346939\n"
     ]
    }
   ],
   "source": []
  },
  {
   "cell_type": "markdown",
   "id": "e8a20965-d360-44b7-8e6f-710184dce3d8",
   "metadata": {},
   "source": [
    "### 8. Inspecting performance indicators\n",
    "\n",
    "Write Python code to show results for: \n",
    "\n",
    "- The accuracy values for the training set and the test set.\n",
    "- The confusion matrix on the training and testing set.  \n",
    "- The plot of precision versus recall for the training set.\n",
    "\n",
    "Make sure you format the output properly. "
   ]
  },
  {
   "cell_type": "code",
   "execution_count": 54,
   "id": "e9577c1f-169b-4046-9f41-d1e4a9502087",
   "metadata": {},
   "outputs": [
    {
     "name": "stdout",
     "output_type": "stream",
     "text": [
      "Train Accuracy 0.9583333333333334\n",
      "Test Accuracy 0.9795918367346939\n"
     ]
    }
   ],
   "source": [
    "# Check the accuracy\n",
    "train_accuracy = log_reg.score(X_train, y_train)\n",
    "print(\"Train Accuracy\", train_accuracy)\n",
    "\n",
    "test_accuracy = log_reg.score(X_test, y_test)\n",
    "print(\"Test Accuracy\", test_accuracy)"
   ]
  },
  {
   "cell_type": "code",
   "execution_count": null,
   "id": "128062f1",
   "metadata": {},
   "outputs": [],
   "source": [
    "y_train_pred = SGDclf.predicts(x_train, y_train)\n",
    "y_train_pred = SGDclf.predicts(y_train)"
   ]
  },
  {
   "cell_type": "markdown",
   "id": "6608cbbf-9057-46f9-a77e-4f1bb217217f",
   "metadata": {},
   "source": [
    "### *Optional, but may be covered in assessments.*\n",
    "\n",
    "### 9. Plotting the estimated probabilities and decision boundary of the Logistic Regression model. \n",
    "\n",
    "Consider two individual features in our dataset. We will use them to examine the estimated probabilities and decision boundary of the Logistic Regression model. You can choose which ones and/or experiment with different pairs of features. For each pair, you should create a new version of your training set using these two features only.\n",
    "\n",
    "Also, to plot the Logistic Regression Classifier's estimated probabilities and decision boundary (as in Figure 4.23 of the textbook), considering these two individual features, you will need to create a Logistic Regression model for each feature. Hence, you are to provide two plots."
   ]
  },
  {
   "cell_type": "code",
   "execution_count": null,
   "id": "16ffc199-6b42-4315-a0b1-acca49066069",
   "metadata": {},
   "outputs": [],
   "source": [
    "# ..."
   ]
  },
  {
   "cell_type": "markdown",
   "id": "43a8468d-f7bd-4871-8064-826d7f7c0f69",
   "metadata": {},
   "source": [
    "Based on your plots, comment about: \n",
    "\n",
    "- What threshold would you choose for classification based on the predicted probabilities?\n",
    "- What is the impact of changing the threshold for performance indicators such as precision and recall?\n",
    "- What can you say about the overlap between classes, and how does this impact classification performance?"
   ]
  },
  {
   "cell_type": "code",
   "execution_count": null,
   "id": "d86bae4a-de36-402f-8ac0-dc1a7aebdcfd",
   "metadata": {},
   "outputs": [],
   "source": []
  }
 ],
 "metadata": {
  "kernelspec": {
   "display_name": "base",
   "language": "python",
   "name": "python3"
  },
  "language_info": {
   "codemirror_mode": {
    "name": "ipython",
    "version": 3
   },
   "file_extension": ".py",
   "mimetype": "text/x-python",
   "name": "python",
   "nbconvert_exporter": "python",
   "pygments_lexer": "ipython3",
   "version": "3.12.7"
  }
 },
 "nbformat": 4,
 "nbformat_minor": 5
}
